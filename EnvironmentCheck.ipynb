{
 "cells": [
  {
   "cell_type": "markdown",
   "id": "58193a82-4e2d-4f04-8929-e2566b1b13c2",
   "metadata": {},
   "source": [
    "# Environment Check\n",
    "\n",
    "#### This notebook is designed to check the environment that you are running in to make sure that all example notebook dependencies and extensions are correctly installed. Simply select Run All Cells and let everything complete before running the example notebooks in this repository."
   ]
  },
  {
   "cell_type": "code",
   "execution_count": 1,
   "id": "36eaad49-3b68-4806-8ba6-56eb0384d1da",
   "metadata": {},
   "outputs": [],
   "source": [
    "import os, sys, re\n",
    "import importlib.util\n",
    "try:\n",
    "    import importlib.metadata as importlib_metadata\n",
    "except:\n",
    "    import importlib_metadata"
   ]
  },
  {
   "cell_type": "markdown",
   "id": "7e09f10e-535d-4031-a092-96063969dc9c",
   "metadata": {},
   "source": [
    "#### Define the function to do the checking and install any missing dependencies"
   ]
  },
  {
   "cell_type": "code",
   "execution_count": 2,
   "id": "8b49c580-719a-4229-8785-4037162426d7",
   "metadata": {},
   "outputs": [],
   "source": [
    "def _get_version(pkg):\n",
    "    try:\n",
    "        return importlib_metadata.version(pkg)\n",
    "    except:\n",
    "        pass\n",
    "    try:\n",
    "        return sys.modules[pkg].__version__\n",
    "    except:\n",
    "        return ''\n",
    "\n",
    "def _pkg_version_pre(values):\n",
    "    version, pre = None, False\n",
    "    if len(values) == 3:\n",
    "        version, pre = values[1:]\n",
    "    elif len(values) == 2:\n",
    "        pre = (values[1] == \"pre\")\n",
    "        version = values[1] if not pre else version\n",
    "    pkg = values[0]\n",
    "\n",
    "    return pkg, version, pre\n",
    "\n",
    "def check_for_package(req):\n",
    "    values = list(filter(None, re.split(r\"\\[.*\\]|==|>=|--| \", req))) # Grab the package name, version, and pre-release status\n",
    "    install_req = re.split(r\" --pre\", req)[0] # Grab the string we need for installation\n",
    "    pkg, version, pre = _pkg_version_pre(values)\n",
    "    if (importlib.util.find_spec(pkg.replace(\"-\", \"_\")) is None\n",
    "        or (version and _get_version(pkg) != version)):\n",
    "        print(f\"{install_req} not found, installing {pkg} now...\")\n",
    "        try:\n",
    "            if pre:\n",
    "                !{sys.executable} -m pip install --upgrade --pre -q \"{install_req}\"\n",
    "            else:\n",
    "                !{sys.executable} -m pip install --upgrade -q \"{install_req}\"\n",
    "        except Exception as e:\n",
    "            print(f'ERROR: {e}')\n",
    "    print(f\"{pkg} version {_get_version(pkg)} installed.\")\n",
    "    print(\"-----\")"
   ]
  },
  {
   "cell_type": "markdown",
   "id": "871e8e65-5386-4c62-8ec3-bc4d80fada1a",
   "metadata": {},
   "source": [
    "#### List of notebook requirements"
   ]
  },
  {
   "cell_type": "code",
   "execution_count": 3,
   "id": "ba6f3698-5af6-4b1f-b433-3804cde13494",
   "metadata": {},
   "outputs": [],
   "source": [
    "reqs = [\n",
    "    \"itkwidgets[all]>=1.0a49\",\n",
    "    \"imjoy-elfinder\",\n",
    "    \"imjoy-jupyter-extension\",\n",
    "    \"imjoy-jupyterlab-extension\",\n",
    "    \"itk\",\n",
    "    \"monai[nibabel, matplotlib, tqdm]\",\n",
    "    \"imageio\",\n",
    "    \"pyvista\",\n",
    "    \"dask[diagnostics]\",\n",
    "    \"toolz\",\n",
    "    \"scikit-image\",\n",
    "    \"pooch\",\n",
    "    \"matplotlib\",\n",
    "    \"tqdm\",\n",
    "    \"vtk\",\n",
    "    \"netCDF4\",\n",
    "    \"xarray\",\n",
    "    \"zarr\",\n",
    "    \"fsspec[http]\",\n",
    "]"
   ]
  },
  {
   "cell_type": "code",
   "execution_count": 4,
   "id": "45d3f0e8-bf13-4c98-ac43-66901a9a704d",
   "metadata": {},
   "outputs": [],
   "source": [
    "!{sys.executable} -m pip install --upgrade -q pip"
   ]
  },
  {
   "cell_type": "code",
   "execution_count": 5,
   "id": "3e18e98c-575b-405e-bc49-1a7035882aa1",
   "metadata": {
    "tags": []
   },
   "outputs": [
    {
     "name": "stdout",
     "output_type": "stream",
     "text": [
      "itkwidgets[all]>=1.0a49 not found, installing itkwidgets now...\n",
      "itkwidgets version 1.0a49 installed.\n",
      "-----\n",
      "imjoy-elfinder version 0.1.63 installed.\n",
      "-----\n",
      "imjoy-jupyter-extension version 0.3.0 installed.\n",
      "-----\n",
      "imjoy-jupyterlab-extension not found, installing imjoy-jupyterlab-extension now...\n",
      "imjoy-jupyterlab-extension version 0.2.6 installed.\n",
      "-----\n",
      "itk not found, installing itk now...\n",
      "itk version 5.3.0 installed.\n",
      "-----\n",
      "monai[nibabel, matplotlib, tqdm] not found, installing monai now...\n",
      "monai version 1.3.0 installed.\n",
      "-----\n",
      "imageio version 2.34.0 installed.\n",
      "-----\n",
      "pyvista not found, installing pyvista now...\n",
      "pyvista version 0.43.5 installed.\n",
      "-----\n",
      "dask version 2024.4.1 installed.\n",
      "-----\n",
      "toolz version 0.12.1 installed.\n",
      "-----\n",
      "scikit-image not found, installing scikit-image now...\n",
      "scikit-image version 0.23.1 installed.\n",
      "-----\n",
      "pooch version 1.8.1 installed.\n",
      "-----\n",
      "matplotlib version 3.8.4 installed.\n",
      "-----\n",
      "tqdm version 4.66.2 installed.\n",
      "-----\n",
      "vtk version 9.3.0 installed.\n",
      "-----\n",
      "netCDF4 not found, installing netCDF4 now...\n",
      "netCDF4 version 1.6.5 installed.\n",
      "-----\n",
      "xarray not found, installing xarray now...\n",
      "xarray version 2024.3.0 installed.\n",
      "-----\n",
      "zarr version 2.17.2 installed.\n",
      "-----\n",
      "fsspec version 2024.3.1 installed.\n",
      "-----\n"
     ]
    }
   ],
   "source": [
    "for req in reqs:\n",
    "    check_for_package(req)"
   ]
  }
 ],
 "metadata": {
  "kernelspec": {
   "display_name": "Python 3 (ipykernel)",
   "language": "python",
   "name": "python3"
  },
  "language_info": {
   "codemirror_mode": {
    "name": "ipython",
    "version": 3
   },
   "file_extension": ".py",
   "mimetype": "text/x-python",
   "name": "python",
   "nbconvert_exporter": "python",
   "pygments_lexer": "ipython3",
   "version": "3.11.8"
  }
 },
 "nbformat": 4,
 "nbformat_minor": 5
}
